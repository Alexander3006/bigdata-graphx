{
 "cells": [
  {
   "cell_type": "code",
   "execution_count": 2,
   "id": "5790aa1c-b81b-4918-9162-2f885f9462c1",
   "metadata": {},
   "outputs": [
    {
     "name": "stdout",
     "output_type": "stream",
     "text": [
      ":: loading settings :: url = jar:file:/opt/conda/lib/python3.8/site-packages/pyspark/jars/ivy-2.5.0.jar!/org/apache/ivy/core/settings/ivysettings.xml\n"
     ]
    },
    {
     "name": "stderr",
     "output_type": "stream",
     "text": [
      "Ivy Default Cache set to: /root/.ivy2/cache\n",
      "The jars for the packages stored in: /root/.ivy2/jars\n",
      "graphframes#graphframes added as a dependency\n",
      ":: resolving dependencies :: org.apache.spark#spark-submit-parent-631d6c35-520a-4d1c-bc09-611c2c15b4ca;1.0\n",
      "\tconfs: [default]\n",
      "\tfound graphframes#graphframes;0.8.1-spark3.0-s_2.12 in spark-packages\n",
      "\tfound org.slf4j#slf4j-api;1.7.16 in central\n",
      ":: resolution report :: resolve 156ms :: artifacts dl 9ms\n",
      "\t:: modules in use:\n",
      "\tgraphframes#graphframes;0.8.1-spark3.0-s_2.12 from spark-packages in [default]\n",
      "\torg.slf4j#slf4j-api;1.7.16 from central in [default]\n",
      "\t---------------------------------------------------------------------\n",
      "\t|                  |            modules            ||   artifacts   |\n",
      "\t|       conf       | number| search|dwnlded|evicted|| number|dwnlded|\n",
      "\t---------------------------------------------------------------------\n",
      "\t|      default     |   2   |   0   |   0   |   0   ||   2   |   0   |\n",
      "\t---------------------------------------------------------------------\n",
      ":: retrieving :: org.apache.spark#spark-submit-parent-631d6c35-520a-4d1c-bc09-611c2c15b4ca\n",
      "\tconfs: [default]\n",
      "\t0 artifacts copied, 2 already retrieved (0kB/6ms)\n"
     ]
    },
    {
     "name": "stdout",
     "output_type": "stream",
     "text": [
      "23/01/08 16:02:47 WARN NativeCodeLoader: Unable to load native-hadoop library for your platform... using builtin-java classes where applicable\n"
     ]
    },
    {
     "name": "stderr",
     "output_type": "stream",
     "text": [
      "Setting default log level to \"WARN\".\n",
      "To adjust logging level use sc.setLogLevel(newLevel). For SparkR, use setLogLevel(newLevel).\n"
     ]
    }
   ],
   "source": [
    "from pyspark.sql import SparkSession\n",
    "from pyspark.conf import SparkConf\n",
    "\n",
    "spark_conf = SparkConf()\n",
    "spark_conf.setAll([\n",
    "    ('spark.master', \"local[*]\"),\n",
    "    # ('spark.master', \"spark://spark-master:7077\"),\n",
    "    ('spark.app.name', 'bigdata-graphx'),\n",
    "    ('spark.submit.deployMode', 'client'),\n",
    "    (\"spark.jars\", \"neo4j-connector-apache-spark_2.12-5.0.0_for_spark_3.jar\"),\n",
    "    (\"spark.jars.packages\", \"graphframes:graphframes:0.8.1-spark3.0-s_2.12\"),\n",
    "])\n",
    "\n",
    "spark = (\n",
    "    SparkSession\n",
    "    .builder\n",
    "    .config(conf=spark_conf)\n",
    "    .getOrCreate()\n",
    ")"
   ]
  },
  {
   "cell_type": "code",
   "execution_count": 3,
   "id": "78bb1291-220f-404b-a56e-6e25aed8c53b",
   "metadata": {},
   "outputs": [],
   "source": [
    "accounts_df = (\n",
    "    spark.read\n",
    "    .format(\"org.neo4j.spark.DataSource\")\n",
    "    .option(\"url\", \"bolt://neo4j:7687\")\n",
    "    .option(\"query\", \"MATCH (a:Account) RETURN a.address as id\")\n",
    "    .load()\n",
    ")\n",
    "\n",
    "transfers_df = (\n",
    "    spark.read\n",
    "    .format(\"org.neo4j.spark.DataSource\")\n",
    "    .option(\"url\", \"bolt://neo4j:7687\")\n",
    "    .option(\"query\", \"MATCH (src:Account) -[s:Send]-> (t:Transaction) -[r:Receive]-> (dst:Account) RETURN src.address as src, dst.address as dst, t.txid as txid, r.payload as payload\")\n",
    "    .load()\n",
    ")"
   ]
  },
  {
   "cell_type": "code",
   "execution_count": 4,
   "id": "2742043b-09e5-4910-b0ef-c02f3e213063",
   "metadata": {},
   "outputs": [
    {
     "name": "stdout",
     "output_type": "stream",
     "text": [
      "+--------------------+\n",
      "|                  id|\n",
      "+--------------------+\n",
      "|addr1qxeqpdjg4lf0...|\n",
      "|addr1q9nlkdtwwzu6...|\n",
      "|addr1q84p0m57t68t...|\n",
      "|addr1qyqhj3jmd4jy...|\n",
      "|addr1q9s7g67qfy22...|\n",
      "|addr1q83ef8afqjp3...|\n",
      "|addr1q9av5zywsu3f...|\n",
      "|addr1z8nvjzjeydcn...|\n",
      "|addr1q97saku7cvu2...|\n",
      "|addr1qydtjg2erj8c...|\n",
      "|addr1q928k0uj7h9x...|\n",
      "|addr1q8t09eutlvz9...|\n",
      "|addr1q9ywq86tytuk...|\n",
      "|addr1q8q0ysxyyyq3...|\n",
      "|addr1q8le02asq699...|\n",
      "|addr1q8lkcrq7gq9n...|\n",
      "|addr1qx9wsx4lwvzc...|\n",
      "|addr1q9eesdst9zf5...|\n",
      "|addr1qyvs2ls0eyat...|\n",
      "|addr1qxs0exk8phhd...|\n",
      "+--------------------+\n",
      "only showing top 20 rows\n",
      "\n",
      "+--------------------+--------------------+--------------------+--------------------+\n",
      "|                 src|                 dst|                txid|             payload|\n",
      "+--------------------+--------------------+--------------------+--------------------+\n",
      "|addr1q88d9cxu646p...|addr1q8gztq00uarx...|39704e617bfdfd221...|[NATIVE_TOKEN:972...|\n",
      "|addr1q8ne6wd4wy65...|addr1qyk7e7xc4vc2...|491efc402a77a1357...|[NATIVE_TOKEN:181...|\n",
      "|addr1qxr6yh7uqnk2...|addr1q93hcde039ys...|bf77749b40ef1ea0a...|[NATIVE_TOKEN:110...|\n",
      "|addr1qxr6yh7uqnk2...|addr1qxr6yh7uqnk2...|bf77749b40ef1ea0a...|[NATIVE_TOKEN:499...|\n",
      "|addr1q85r7q5nvp75...|addr1q9uahu7qa67e...|3b125da136a7d7bd3...|[NATIVE_TOKEN:213...|\n",
      "|addr1q85r7q5nvp75...|addr1qyr3qj7g8n6v...|3b125da136a7d7bd3...|[NATIVE_TOKEN:287...|\n",
      "|addr1w80ptp0qgmck...|addr1q95u7qe0tlgf...|253507ece0a3288c0...|[undefined:200993...|\n",
      "|addr1w80ptp0qgmck...|addr1wxj88juwkzmp...|253507ece0a3288c0...|[undefined:291200...|\n",
      "|addr1w80ptp0qgmck...|addr1q95u7qe0tlgf...|253507ece0a3288c0...|[undefined:1, und...|\n",
      "|addr1w80ptp0qgmck...|addr1w80ptp0qgmck...|253507ece0a3288c0...|[NATIVE_TOKEN:200...|\n",
      "|addr1q95u7qe0tlgf...|addr1q95u7qe0tlgf...|253507ece0a3288c0...|[undefined:200993...|\n",
      "|addr1q95u7qe0tlgf...|addr1wxj88juwkzmp...|253507ece0a3288c0...|[undefined:291200...|\n",
      "|addr1q95u7qe0tlgf...|addr1q95u7qe0tlgf...|253507ece0a3288c0...|[undefined:1, und...|\n",
      "|addr1q95u7qe0tlgf...|addr1w80ptp0qgmck...|253507ece0a3288c0...|[NATIVE_TOKEN:200...|\n",
      "|addr1q95u7qe0tlgf...|addr1q95u7qe0tlgf...|253507ece0a3288c0...|[undefined:200993...|\n",
      "|addr1q95u7qe0tlgf...|addr1wxj88juwkzmp...|253507ece0a3288c0...|[undefined:291200...|\n",
      "|addr1q95u7qe0tlgf...|addr1q95u7qe0tlgf...|253507ece0a3288c0...|[undefined:1, und...|\n",
      "|addr1q95u7qe0tlgf...|addr1w80ptp0qgmck...|253507ece0a3288c0...|[NATIVE_TOKEN:200...|\n",
      "|addr1wxj88juwkzmp...|addr1q95u7qe0tlgf...|253507ece0a3288c0...|[undefined:200993...|\n",
      "|addr1wxj88juwkzmp...|addr1wxj88juwkzmp...|253507ece0a3288c0...|[undefined:291200...|\n",
      "+--------------------+--------------------+--------------------+--------------------+\n",
      "only showing top 20 rows\n",
      "\n"
     ]
    }
   ],
   "source": [
    "accounts_df.show()\n",
    "transfers_df.show()"
   ]
  },
  {
   "cell_type": "code",
   "execution_count": 5,
   "id": "53ab31bf-ee30-4a95-b270-605c70e7c8de",
   "metadata": {},
   "outputs": [
    {
     "name": "stderr",
     "output_type": "stream",
     "text": [
      "/opt/conda/lib/python3.8/site-packages/pyspark/sql/dataframe.py:148: UserWarning: DataFrame.sql_ctx is an internal property, and will be removed in future releases. Use DataFrame.sparkSession instead.\n",
      "  warnings.warn(\n"
     ]
    }
   ],
   "source": [
    "from graphframes import *\n",
    "graph = GraphFrame(accounts_df, transfers_df)"
   ]
  },
  {
   "cell_type": "code",
   "execution_count": 15,
   "id": "3de3e27a-aa7b-4320-9b52-a0135fbe7a7c",
   "metadata": {},
   "outputs": [
    {
     "name": "stdout",
     "output_type": "stream",
     "text": [
      "+--------------------+------+\n",
      "|                  id|degree|\n",
      "+--------------------+------+\n",
      "|addr1zxgx3far7qyg...|  1534|\n",
      "|addr1qyht4ja0zcn4...|   864|\n",
      "|addr1vy4nmtfc4jff...|   833|\n",
      "|addr1z8snz7c4974v...|   432|\n",
      "|addr1wxn9efv2f6w8...|   356|\n",
      "|addr1qxfmh4pcs334...|   351|\n",
      "|addr1v8pr9mwnqarw...|   262|\n",
      "|addr1vy3qpx09uscy...|   262|\n",
      "|addr1qxkmr0m22xeq...|   256|\n",
      "|addr1q9cwvremt6n3...|   246|\n",
      "|addr1w9xc5279jqxq...|   236|\n",
      "|addr1wxgg25t3tk30...|   222|\n",
      "|addr1qx9wsx4lwvzc...|   209|\n",
      "|addr1qyt9d2l8fzgr...|   200|\n",
      "|addr1q85k2eq506ne...|   170|\n",
      "|addr1w8dmtwktj7lk...|   162|\n",
      "|addr1wxugd4ufxmtr...|   162|\n",
      "|addr1w9v5h80g9nk4...|   162|\n",
      "|addr1qy88xd8f2ex5...|   160|\n",
      "|addr1w80k8xe6vckm...|   152|\n",
      "+--------------------+------+\n",
      "only showing top 20 rows\n",
      "\n"
     ]
    }
   ],
   "source": [
    "# самые популярне адреса(зачастую это либо биржевые адреса или контракты)\n",
    "from pyspark.sql.functions import col, asc, desc, expr, split, sum, count\n",
    "graph.degrees.sort(col('degree').desc()).show()\n"
   ]
  },
  {
   "cell_type": "code",
   "execution_count": 7,
   "id": "7873f435-b9e2-4d1a-a629-fd2046350364",
   "metadata": {},
   "outputs": [
    {
     "name": "stdout",
     "output_type": "stream",
     "text": [
      "+--------------------+--------------------+--------------------+--------------------+\n",
      "|                 src|                 dst|                txid|             payload|\n",
      "+--------------------+--------------------+--------------------+--------------------+\n",
      "|addr1q88d9cxu646p...|addr1q8gztq00uarx...|39704e617bfdfd221...|[NATIVE_TOKEN:972...|\n",
      "|addr1q8ne6wd4wy65...|addr1qyk7e7xc4vc2...|491efc402a77a1357...|[NATIVE_TOKEN:181...|\n",
      "|addr1qxr6yh7uqnk2...|addr1q93hcde039ys...|bf77749b40ef1ea0a...|[NATIVE_TOKEN:110...|\n",
      "|addr1qxr6yh7uqnk2...|addr1qxr6yh7uqnk2...|bf77749b40ef1ea0a...|[NATIVE_TOKEN:499...|\n",
      "|addr1q85r7q5nvp75...|addr1q9uahu7qa67e...|3b125da136a7d7bd3...|[NATIVE_TOKEN:213...|\n",
      "|addr1q85r7q5nvp75...|addr1qyr3qj7g8n6v...|3b125da136a7d7bd3...|[NATIVE_TOKEN:287...|\n",
      "|addr1w80ptp0qgmck...|addr1q95u7qe0tlgf...|253507ece0a3288c0...|[undefined:200993...|\n",
      "|addr1w80ptp0qgmck...|addr1wxj88juwkzmp...|253507ece0a3288c0...|[undefined:291200...|\n",
      "|addr1w80ptp0qgmck...|addr1q95u7qe0tlgf...|253507ece0a3288c0...|[undefined:1, und...|\n",
      "|addr1w80ptp0qgmck...|addr1w80ptp0qgmck...|253507ece0a3288c0...|[NATIVE_TOKEN:200...|\n",
      "|addr1q95u7qe0tlgf...|addr1q95u7qe0tlgf...|253507ece0a3288c0...|[undefined:200993...|\n",
      "|addr1q95u7qe0tlgf...|addr1wxj88juwkzmp...|253507ece0a3288c0...|[undefined:291200...|\n",
      "|addr1q95u7qe0tlgf...|addr1q95u7qe0tlgf...|253507ece0a3288c0...|[undefined:1, und...|\n",
      "|addr1q95u7qe0tlgf...|addr1w80ptp0qgmck...|253507ece0a3288c0...|[NATIVE_TOKEN:200...|\n",
      "|addr1q95u7qe0tlgf...|addr1q95u7qe0tlgf...|253507ece0a3288c0...|[undefined:200993...|\n",
      "|addr1q95u7qe0tlgf...|addr1wxj88juwkzmp...|253507ece0a3288c0...|[undefined:291200...|\n",
      "|addr1q95u7qe0tlgf...|addr1q95u7qe0tlgf...|253507ece0a3288c0...|[undefined:1, und...|\n",
      "|addr1q95u7qe0tlgf...|addr1w80ptp0qgmck...|253507ece0a3288c0...|[NATIVE_TOKEN:200...|\n",
      "|addr1wxj88juwkzmp...|addr1q95u7qe0tlgf...|253507ece0a3288c0...|[undefined:200993...|\n",
      "|addr1wxj88juwkzmp...|addr1wxj88juwkzmp...|253507ece0a3288c0...|[undefined:291200...|\n",
      "+--------------------+--------------------+--------------------+--------------------+\n",
      "only showing top 20 rows\n",
      "\n",
      "+--------------------+--------------------+--------------------+--------------------+----------+\n",
      "|                 src|                 dst|                txid|             payload|    amount|\n",
      "+--------------------+--------------------+--------------------+--------------------+----------+\n",
      "|addr1q88d9cxu646p...|addr1q8gztq00uarx...|39704e617bfdfd221...|[NATIVE_TOKEN:972...|  97224643|\n",
      "|addr1q8ne6wd4wy65...|addr1qyk7e7xc4vc2...|491efc402a77a1357...|[NATIVE_TOKEN:181...|   1816519|\n",
      "|addr1qxr6yh7uqnk2...|addr1q93hcde039ys...|bf77749b40ef1ea0a...|[NATIVE_TOKEN:110...|   1105655|\n",
      "|addr1qxr6yh7uqnk2...|addr1qxr6yh7uqnk2...|bf77749b40ef1ea0a...|[NATIVE_TOKEN:499...|   4995402|\n",
      "|addr1q85r7q5nvp75...|addr1q9uahu7qa67e...|3b125da136a7d7bd3...|[NATIVE_TOKEN:213...| 213248141|\n",
      "|addr1q85r7q5nvp75...|addr1qyr3qj7g8n6v...|3b125da136a7d7bd3...|[NATIVE_TOKEN:287...| 287414697|\n",
      "|addr1w80ptp0qgmck...|addr1q95u7qe0tlgf...|253507ece0a3288c0...|[undefined:200993...|   2017195|\n",
      "|addr1w80ptp0qgmck...|addr1wxj88juwkzmp...|253507ece0a3288c0...|[undefined:291200...|1637191680|\n",
      "|addr1w80ptp0qgmck...|addr1q95u7qe0tlgf...|253507ece0a3288c0...|[undefined:1, und...| 486499468|\n",
      "|addr1w80ptp0qgmck...|addr1w80ptp0qgmck...|253507ece0a3288c0...|[NATIVE_TOKEN:200...|   2000350|\n",
      "|addr1q95u7qe0tlgf...|addr1q95u7qe0tlgf...|253507ece0a3288c0...|[undefined:200993...|   2017195|\n",
      "|addr1q95u7qe0tlgf...|addr1wxj88juwkzmp...|253507ece0a3288c0...|[undefined:291200...|1637191680|\n",
      "|addr1q95u7qe0tlgf...|addr1q95u7qe0tlgf...|253507ece0a3288c0...|[undefined:1, und...| 486499468|\n",
      "|addr1q95u7qe0tlgf...|addr1w80ptp0qgmck...|253507ece0a3288c0...|[NATIVE_TOKEN:200...|   2000350|\n",
      "|addr1q95u7qe0tlgf...|addr1q95u7qe0tlgf...|253507ece0a3288c0...|[undefined:200993...|   2017195|\n",
      "|addr1q95u7qe0tlgf...|addr1wxj88juwkzmp...|253507ece0a3288c0...|[undefined:291200...|1637191680|\n",
      "|addr1q95u7qe0tlgf...|addr1q95u7qe0tlgf...|253507ece0a3288c0...|[undefined:1, und...| 486499468|\n",
      "|addr1q95u7qe0tlgf...|addr1w80ptp0qgmck...|253507ece0a3288c0...|[NATIVE_TOKEN:200...|   2000350|\n",
      "|addr1wxj88juwkzmp...|addr1q95u7qe0tlgf...|253507ece0a3288c0...|[undefined:200993...|   2017195|\n",
      "|addr1wxj88juwkzmp...|addr1wxj88juwkzmp...|253507ece0a3288c0...|[undefined:291200...|1637191680|\n",
      "+--------------------+--------------------+--------------------+--------------------+----------+\n",
      "only showing top 20 rows\n",
      "\n"
     ]
    },
    {
     "name": "stderr",
     "output_type": "stream",
     "text": [
      "                                                                                \r"
     ]
    },
    {
     "name": "stdout",
     "output_type": "stream",
     "text": [
      "+--------------------+------------+\n",
      "|                 src|  sum_amount|\n",
      "+--------------------+------------+\n",
      "|addr1vy4nmtfc4jff...|215727317697|\n",
      "|addr1qxfmh4pcs334...| 81393218782|\n",
      "|addr1zxgx3far7qyg...| 75623903922|\n",
      "|addr1q8d6clta0nld...| 68673656898|\n",
      "|addr1qyht4ja0zcn4...| 52667597654|\n",
      "|addr1qxn74ffy3trv...| 49444770078|\n",
      "|addr1q95h99mlelmj...| 34761228650|\n",
      "|addr1qy88xd8f2ex5...| 31528161728|\n",
      "|addr1q8ej4u8n07cn...| 26789667975|\n",
      "|addr1wxn9efv2f6w8...| 26415827277|\n",
      "|addr1z8snz7c4974v...| 26333798827|\n",
      "|addr1qx53aw7kg445...| 25405518945|\n",
      "|addr1q8njx3qrdnwj...| 25082199143|\n",
      "|addr1qx3e3zsgshs7...| 19885916323|\n",
      "|addr1qytpg7xglqmk...| 19271242929|\n",
      "|addr1q9lyrt63rrjy...| 19120995480|\n",
      "|addr1q8unt3hvltd0...| 18190874050|\n",
      "|addr1qy7fe8s0k4uf...| 17832179142|\n",
      "|addr1qyt9d2l8fzgr...| 17784852347|\n",
      "|addr1qxuf9h49w8s6...| 17435416750|\n",
      "+--------------------+------------+\n",
      "only showing top 20 rows\n",
      "\n",
      "+--------------------+------------+\n",
      "|                 dst|  sum_amount|\n",
      "+--------------------+------------+\n",
      "|addr1v8pr9mwnqarw...|136343000000|\n",
      "|addr1zxgx3far7qyg...| 99888668960|\n",
      "|addr1qyht4ja0zcn4...| 69707282072|\n",
      "|addr1q8d6clta0nld...| 68673656898|\n",
      "|addr1q85zppkln6ag...| 49920000000|\n",
      "|addr1q9ehy6nf495w...| 44000000000|\n",
      "|addr1qxfmh4pcs334...| 39310969380|\n",
      "|addr1q8ej4u8n07cn...| 32147601570|\n",
      "|addr1wxr2a8htmzuh...| 29946425937|\n",
      "|addr1q8unt3hvltd0...| 21829048860|\n",
      "|addr1qylq0kppmykf...| 21560305392|\n",
      "|addr1qy7fe8s0k4uf...| 20804208999|\n",
      "|addr1q95h99mlelmj...| 20103509417|\n",
      "|addr1wxj88juwkzmp...| 19674422975|\n",
      "|addr1q8njx3qrdnwj...| 18011711293|\n",
      "|addr1wxn9efv2f6w8...| 17376427534|\n",
      "|addr1q8kxr929awyw...| 14313392656|\n",
      "|addr1q9hg5qzs75dr...| 13748529682|\n",
      "|addr1wy30zf2g4xc7...| 13221000000|\n",
      "|addr1qyc9pah56kvp...| 12975323563|\n",
      "+--------------------+------------+\n",
      "only showing top 20 rows\n",
      "\n"
     ]
    },
    {
     "name": "stderr",
     "output_type": "stream",
     "text": [
      "                                                                                \r"
     ]
    }
   ],
   "source": [
    "from pyspark.sql.types import IntegerType\n",
    "\n",
    "#найти наибольший полученный баланс нативного токена\n",
    "transfers_df.show()\n",
    "def parseNativeTransferAmount(transfer):\n",
    "    return transfer.withColumn(\"amount\", split(expr(\"filter(payload, x -> x like 'NATIVE_TOKEN:%')\")[0], ':').getItem(1).cast(IntegerType()))\n",
    "\n",
    "transfers_with_nt_amount = transfers_df.transform(lambda transfer: parseNativeTransferAmount(transfer))\n",
    "transfers_with_nt_amount.show()\n",
    "# max send amount\n",
    "transfers_with_nt_amount.groupBy(\"src\").agg(sum(\"amount\").alias(\"sum_amount\")).sort(col(\"sum_amount\").desc()).show()\n",
    "# max receipt amount\n",
    "transfers_with_nt_amount.groupBy(\"dst\").agg(sum(\"amount\").alias(\"sum_amount\")).sort(col(\"sum_amount\").desc()).show()"
   ]
  },
  {
   "cell_type": "code",
   "execution_count": 16,
   "id": "db611c10-22e4-4eb7-ba2d-3d804fd6b922",
   "metadata": {},
   "outputs": [
    {
     "name": "stdout",
     "output_type": "stream",
     "text": [
      "+--------------------+---------+\n",
      "|                  id|component|\n",
      "+--------------------+---------+\n",
      "|addr1q80wc369ssxh...|        0|\n",
      "|addr1q8f7wdrwjype...|        1|\n",
      "|addr1q9694qnumy8d...|        2|\n",
      "|addr1qy8n3jt3xlza...|        2|\n",
      "|addr1q8d27ughqsqr...|        2|\n",
      "|addr1q80qknl5d0gf...|        2|\n",
      "|addr1q9gj7sjuakh9...|        2|\n",
      "|addr1qxz3zrldxkkw...|        2|\n",
      "|addr1z8nvjzjeydcn...|        2|\n",
      "|addr1q95h99mlelmj...|        2|\n",
      "|addr1qy7eqehhxr8u...|        2|\n",
      "|addr1v9wmh4t2yzkc...|        2|\n",
      "|addr1qxz6ckqnudze...|        2|\n",
      "|addr1qyn73eft3k49...|        2|\n",
      "|addr1qyn57yewp6rp...|        2|\n",
      "|addr1q85wrt8668zc...|        2|\n",
      "|addr1q8lkcrq7gq9n...|        2|\n",
      "|addr1q9qv5t8uy73d...|        2|\n",
      "|addr1qy67xc94auf8...|        2|\n",
      "|addr1vxawcsy2dlka...|        2|\n",
      "+--------------------+---------+\n",
      "only showing top 20 rows\n",
      "\n"
     ]
    },
    {
     "name": "stderr",
     "output_type": "stream",
     "text": [
      "                                                                                \r"
     ]
    },
    {
     "name": "stdout",
     "output_type": "stream",
     "text": [
      "+------------+--------------+\n",
      "|   component|component_size|\n",
      "+------------+--------------+\n",
      "|           2|           232|\n",
      "| 25769803782|            57|\n",
      "|171798691851|             4|\n",
      "|231928233996|             4|\n",
      "|266287972355|             4|\n",
      "|188978561037|             3|\n",
      "|292057776138|             3|\n",
      "|146028888079|             3|\n",
      "| 77309411338|             3|\n",
      "|678604832770|             3|\n",
      "| 77309411344|             3|\n",
      "|180388626437|             2|\n",
      "|532575944716|             2|\n",
      "|532575944712|             2|\n",
      "|549755813897|             2|\n",
      "|532575944708|             2|\n",
      "|498216206343|             2|\n",
      "| 68719476736|             2|\n",
      "|249108103174|             2|\n",
      "|738734374928|             2|\n",
      "+------------+--------------+\n",
      "only showing top 20 rows\n",
      "\n"
     ]
    }
   ],
   "source": [
    "result = graph.stronglyConnectedComponents(maxIter=10)\n",
    "result.select(\"*\").orderBy(col(\"component\").asc()).show()\n",
    "\n",
    "#component size\n",
    "maxComponents = result.select(\"*\").groupBy(\"component\").agg(count(\"component\").alias(\"component_size\")).orderBy(col(\"component_size\").desc())\n",
    "maxComponents.show()"
   ]
  },
  {
   "cell_type": "code",
   "execution_count": 18,
   "id": "0a485e50-ed3d-49ec-890a-b4f276de1d00",
   "metadata": {},
   "outputs": [
    {
     "name": "stdout",
     "output_type": "stream",
     "text": [
      "+--------------------+-----------+\n",
      "|                  id|      label|\n",
      "+--------------------+-----------+\n",
      "|addr1q8kxr929awyw...|          2|\n",
      "|addr1q9qla7zdctzn...|          4|\n",
      "|addr1q9ggxajsu5mq...|          5|\n",
      "|addr1q9uahu7qa67e...| 8589934592|\n",
      "|addr1qyr3qj7g8n6v...| 8589934592|\n",
      "|addr1q8wzvy0aw6gv...| 8589934595|\n",
      "|addr1w82ezrpnpm28...| 8589934595|\n",
      "|addr1vx42457eqqpm...| 8589934595|\n",
      "|addr1q9rdxqz49gnk...| 8589934597|\n",
      "|addr1q85r7q5nvp75...| 8589934599|\n",
      "|addr1q9hrlkzmp9xe...| 8589934607|\n",
      "|addr1q8lswlx5q6g4...| 8589934607|\n",
      "|addr1qx2xmenrh8v8...|17179869184|\n",
      "|addr1q9salpdlrl3n...|17179869184|\n",
      "|DdzFFzCqrhsemKpUM...|17179869184|\n",
      "|DdzFFzCqrhsim3zq4...|17179869184|\n",
      "|addr1q9qvp3rucn9n...|17179869189|\n",
      "|addr1qxg424g78057...|17179869189|\n",
      "|addr1qyed9ytz9pyc...|25769803779|\n",
      "|addr1qx6t7jww2ph7...|25769803779|\n",
      "+--------------------+-----------+\n",
      "only showing top 20 rows\n",
      "\n",
      "+-------------+----------+\n",
      "|        label|label_size|\n",
      "+-------------+----------+\n",
      "|1357209665543|       245|\n",
      "| 773094113293|        74|\n",
      "|1228360646671|        60|\n",
      "| 841813590019|        43|\n",
      "| 807453851653|        28|\n",
      "|1142461300736|        23|\n",
      "|1683627180041|        20|\n",
      "|1219770712075|        18|\n",
      "|1090921693194|        17|\n",
      "| 163208757248|        16|\n",
      "|1176821039107|        15|\n",
      "| 257698037771|        14|\n",
      "|1374389534730|        13|\n",
      "| 214748364808|        11|\n",
      "| 231928233996|        11|\n",
      "|1254130450436|        11|\n",
      "| 532575944714|        10|\n",
      "| 463856467973|        10|\n",
      "|1125281431563|        10|\n",
      "|1288490188814|        10|\n",
      "+-------------+----------+\n",
      "only showing top 20 rows\n",
      "\n"
     ]
    }
   ],
   "source": [
    "result_lpa = graph.labelPropagation(maxIter=5)\n",
    "result_lpa.select(\"id\", \"label\").orderBy(col(\"label\").asc()).show()\n",
    "\n",
    "maxLabelSize = result_lpa.select(\"*\").groupBy(\"label\").agg(count(\"label\").alias(\"label_size\")).orderBy(col(\"label_size\").desc())\n",
    "maxLabelSize.show()"
   ]
  },
  {
   "cell_type": "code",
   "execution_count": 24,
   "id": "b3d177cf-1a4d-4fd3-904f-aee0172484b2",
   "metadata": {},
   "outputs": [
    {
     "name": "stdout",
     "output_type": "stream",
     "text": [
      "+--------------------+------------------+\n",
      "|                  id|          pagerank|\n",
      "+--------------------+------------------+\n",
      "|addr1zxgx3far7qyg...| 68.80536991172185|\n",
      "|addr1q9kpuk727hcj...| 59.19939073691068|\n",
      "|addr1qyhz45m03yvl...|19.026109286158512|\n",
      "|addr1qyht4ja0zcn4...|18.204268240043117|\n",
      "|addr1q8sn8j906u0n...| 18.08591102190165|\n",
      "|addr1wxn9efv2f6w8...|14.297003995657246|\n",
      "|addr1q9cwvremt6n3...|14.282671380244086|\n",
      "|addr1vxrmu3m2cc5k...|13.321056717750047|\n",
      "|addr1qyw0hccydf0q...|11.878058403654988|\n",
      "|addr1wy30zf2g4xc7...|11.764126739773703|\n",
      "|addr1q9je93ppzdf4...|10.118839576196006|\n",
      "|addr1z8snz7c4974v...| 9.292975753532117|\n",
      "|addr1q8ww79v2crq0...| 8.570625372361388|\n",
      "|addr1q94m57ke5y9s...| 7.911270754533622|\n",
      "|addr1qyjjgw7s7jz3...|  7.67717800680187|\n",
      "|addr1vy4nmtfc4jff...| 7.535797836086664|\n",
      "|addr1qxkmr0m22xeq...| 7.290317781075104|\n",
      "|addr1qxtwk96t635f...| 6.941008078280464|\n",
      "|addr1qxgmk4l5yd25...| 6.931519313061534|\n",
      "|addr1q8t02rqffs7p...| 6.485503422028095|\n",
      "+--------------------+------------------+\n",
      "only showing top 20 rows\n",
      "\n"
     ]
    },
    {
     "name": "stderr",
     "output_type": "stream",
     "text": [
      "[Stage 11719:>                                                      (0 + 1) / 1]200]\r"
     ]
    },
    {
     "name": "stdout",
     "output_type": "stream",
     "text": [
      "+--------------------+--------------------+------+\n",
      "|                 src|                 dst|weight|\n",
      "+--------------------+--------------------+------+\n",
      "|addr1v95xwcwuapa7...|addr1v8px4syex8e0...|   1.0|\n",
      "|DdzFFzCqrht5e2dCD...|DdzFFzCqrhsuQV5oh...|   1.0|\n",
      "|addr1vxnn6psd7uy3...|addr1v8px4syex8e0...|   1.0|\n",
      "|addr1vxe0uuv3n9cp...|addr1vxrmu3m2cc5k...|   1.0|\n",
      "|addr1vyh3mylxs05e...|addr1v8px4syex8e0...|   1.0|\n",
      "|DdzFFzCqrhsjPPdb6...|DdzFFzCqrhsuQV5oh...|   1.0|\n",
      "|DdzFFzCqrht3gcoPx...|DdzFFzCqrhsuQV5oh...|   1.0|\n",
      "|DdzFFzCqrhsk81BaJ...|DdzFFzCqrhsuQV5oh...|   1.0|\n",
      "|addr1qxuvuvltyw9w...|addr1qxuvuvltyw9w...|   1.0|\n",
      "|DdzFFzCqrhskGtyug...|DdzFFzCqrhsuQV5oh...|   1.0|\n",
      "|addr1qxnq007ftgq0...|addr1qyajqhkv69q3...|   1.0|\n",
      "|DdzFFzCqrhsmjFurf...|DdzFFzCqrhsuQV5oh...|   1.0|\n",
      "|addr1q9lnpd9suply...|DdzFFzCqrhswjSC8W...|   1.0|\n",
      "|DdzFFzCqrhsmuwoha...|DdzFFzCqrhsuQV5oh...|   1.0|\n",
      "|addr1qyskeltug3em...|addr1q9suc6m5f26h...|   1.0|\n",
      "|DdzFFzCqrhsxKQpy2...|DdzFFzCqrhsuQV5oh...|   1.0|\n",
      "|addr1qx9gyavj86yp...|addr1qy9rj3mt2wgm...|   1.0|\n",
      "|DdzFFzCqrhsxf8Qat...|DdzFFzCqrhsuQV5oh...|   1.0|\n",
      "|addr1qyvlqavac48z...|addr1qyhrjnec8r5h...|   1.0|\n",
      "|DdzFFzCqrhsyfB5wM...|DdzFFzCqrhsuQV5oh...|   1.0|\n",
      "+--------------------+--------------------+------+\n",
      "only showing top 20 rows\n",
      "\n"
     ]
    },
    {
     "name": "stderr",
     "output_type": "stream",
     "text": [
      "                                                                                \r"
     ]
    }
   ],
   "source": [
    "# Run PageRank for a fixed number of iterations.\n",
    "results_pageRank = graph.pageRank(resetProbability=0.15, maxIter=10)\n",
    "\n",
    "results_pageRank.vertices.select(\"id\", \"pagerank\").orderBy(col(\"pagerank\").desc()).show()\n",
    "results_pageRank.edges.select(\"src\", \"dst\", \"weight\").orderBy(col(\"weight\").desc()).show()"
   ]
  }
 ],
 "metadata": {
  "kernelspec": {
   "display_name": "Python 3 (ipykernel)",
   "language": "python",
   "name": "python3"
  },
  "language_info": {
   "codemirror_mode": {
    "name": "ipython",
    "version": 3
   },
   "file_extension": ".py",
   "mimetype": "text/x-python",
   "name": "python",
   "nbconvert_exporter": "python",
   "pygments_lexer": "ipython3",
   "version": "3.8.13"
  }
 },
 "nbformat": 4,
 "nbformat_minor": 5
}
